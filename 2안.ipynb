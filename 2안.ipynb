{
 "cells": [
  {
   "cell_type": "code",
   "execution_count": null,
   "id": "a1fb847a",
   "metadata": {},
   "outputs": [],
   "source": [
    "import pandas as pd\n",
    "import numpy as np\n",
    "import seaborn as sns\n",
    "\n",
    "df_1 = pd.read_excel(\"data/동별/자치구별/서울시 사업체 및 종사자 밀도 (구별)통계.xls\")\n",
    "df_1 = df_1[['자치구','사업체밀도','종사자밀도(A)']]\n",
    "df_1.columns = ['자치구','사업체밀도','종사자밀도']\n",
    "df_1.reset_index(inplace=True)\n",
    "df_1.drop(['index'],axis=1,inplace=True)\n",
    "df_1.sort_values(by='자치구',inplace=True)\n",
    "df_1.head()"
   ]
  },
  {
   "cell_type": "code",
   "execution_count": null,
   "id": "cd2dae12",
   "metadata": {},
   "outputs": [],
   "source": [
    "df_2 = pd.read_excel(\"data/동별/자치구별/서울시 시장현황(구별)통계.xlsx\")\n",
    "df_2 = df_2[['자치구','점포수']]\n",
    "df_2.reset_index(inplace=True)\n",
    "df_2.drop(['index'],axis=1,inplace=True)\n",
    "df_2.sort_values(by='자치구',inplace=True)\n",
    "df_2.head()"
   ]
  },
  {
   "cell_type": "code",
   "execution_count": null,
   "id": "47e35475",
   "metadata": {},
   "outputs": [],
   "source": [
    "df_3 = pd.read_excel(\"data/동별/자치구별/서울시 인구밀도 (구별) 통계.xls\")\n",
    "df_3 = df_3[['지역','인구밀도']]\n",
    "df_3.reset_index(inplace=True)\n",
    "df_3.drop(['index'],axis=1,inplace=True)\n",
    "df_3.sort_values(by='지역',inplace=True)\n",
    "df_3.head()"
   ]
  },
  {
   "cell_type": "code",
   "execution_count": null,
   "id": "c5a54d86",
   "metadata": {},
   "outputs": [],
   "source": [
    "df_4 = pd.read_csv(\"data/동별/자치구별/서울시 자치구별 대중교통 총 승차 승객수.csv\")\n",
    "df_4 = df_4[['자치구','승객수']]\n",
    "df_4.columns = ['자치구','대중교통승객수']\n",
    "df_4.reset_index(inplace=True)\n",
    "df_4.drop(['index'],axis=1,inplace=True)\n",
    "df_4.sort_values(by='자치구',inplace=True)\n",
    "df_4.head()"
   ]
  },
  {
   "cell_type": "code",
   "execution_count": null,
   "id": "49625f8a",
   "metadata": {},
   "outputs": [],
   "source": [
    "df_5 = pd.read_excel(\"data/동별/자치구별/서울시 자치구별 주차장 현황.xls\")\n",
    "df_5 = df_5[['자치구','공영','민영','주택가주차장']]\n",
    "df_5.reset_index(inplace=True)\n",
    "df_5.drop(['index'],axis=1,inplace=True)\n",
    "df_5.sort_values(by='자치구',inplace=True)\n",
    "df_5.head()"
   ]
  },
  {
   "cell_type": "code",
   "execution_count": null,
   "id": "9dedcd27",
   "metadata": {},
   "outputs": [],
   "source": [
    "df_6 = pd.read_excel(\"data/동별/자치구별/서울시장애인통계(구별).xlsx\")\n",
    "df_6 = df_6[['자치구','합계']]\n",
    "df_6.columns = ['자치구','장애인수']\n",
    "df_6.reset_index(inplace=True)\n",
    "df_6.drop(['index'],axis=1,inplace=True)\n",
    "df_6.sort_values(by='자치구',inplace=True)\n",
    "df_6.head()"
   ]
  },
  {
   "cell_type": "code",
   "execution_count": null,
   "id": "57d7cef4",
   "metadata": {},
   "outputs": [],
   "source": [
    "df_7 = pd.read_excel(\"data/자치구별 적발건수.xlsx\")\n",
    "df_7 = df_7[['자치구','적발 건수']]\n",
    "df_7.reset_index(inplace=True)\n",
    "df_7.drop(['index'],axis=1,inplace=True)\n",
    "df_7.sort_values(by='자치구',inplace=True)\n",
    "df_7.head()"
   ]
  },
  {
   "cell_type": "code",
   "execution_count": null,
   "id": "9933147f",
   "metadata": {},
   "outputs": [],
   "source": [
    "df_all = pd.concat([df_1[['사업체밀도','종사자밀도']],df_2['점포수'],df_3['인구밀도'],df_4['대중교통승객수'],df_5[['공영','민영','주택가주차장']],df_6['장애인수'],df_7['적발 건수']],axis=1)\n",
    "df_all"
   ]
  },
  {
   "cell_type": "code",
   "execution_count": null,
   "id": "27f8c939",
   "metadata": {},
   "outputs": [],
   "source": [
    "df_all.index = df_1['자치구'].tolist()\n",
    "df_all.head()"
   ]
  },
  {
   "cell_type": "code",
   "execution_count": null,
   "id": "d8e2329a",
   "metadata": {},
   "outputs": [],
   "source": [
    "#스케일링\n",
    "def standard_scaling(df,scale_columns):\n",
    "    for col in scale_columns:\n",
    "        series_mean = df[col].mean()\n",
    "        series_std = df[col].std()\n",
    "        df[col] = df[col].apply(lambda x: (x - series_mean)/series_std)\n",
    "    return df\n",
    "\n",
    "scale_columns = df_all.columns.tolist()\n",
    "ndf_all = standard_scaling(df_all,scale_columns)"
   ]
  },
  {
   "cell_type": "code",
   "execution_count": null,
   "id": "3f2ff77f",
   "metadata": {},
   "outputs": [],
   "source": [
    "import matplotlib\n",
    "import matplotlib.font_manager as fm\n",
    "fm.get_fontconfig_fonts()\n",
    "# font_location = '/usr/share/fonts/truetype/nanum/NanumGothicOTF.ttf'\n",
    "font_location = r'C:\\Users\\Jo\\PYDATAexam\\font\\malgun.ttf' # For Windows\n",
    "font_name = fm.FontProperties(fname=font_location).get_name()\n",
    "matplotlib.rc('font', family=font_name)"
   ]
  },
  {
   "cell_type": "code",
   "execution_count": null,
   "id": "1aa7d746",
   "metadata": {},
   "outputs": [],
   "source": [
    "import seaborn as sns\n",
    "import matplotlib.pyplot as plt\n",
    "colormap = plt.cm.Reds\n",
    "mask=np.zeros_like(df_all.corr(),dtype=np.bool)\n",
    "mask[np.triu_indices_from(mask)]=True\n",
    "plt.figure(figsize=(20, 15))\n",
    "sns.heatmap(df_all.corr(), linewidths = 0.1, vmax = 1.0,\n",
    "           square = True,mask=mask, cmap = colormap, linecolor = \"white\", annot = True, annot_kws = {\"size\" : 16})"
   ]
  }
 ],
 "metadata": {
  "kernelspec": {
   "display_name": "Python 3 (ipykernel)",
   "language": "python",
   "name": "python3"
  },
  "language_info": {
   "codemirror_mode": {
    "name": "ipython",
    "version": 3
   },
   "file_extension": ".py",
   "mimetype": "text/x-python",
   "name": "python",
   "nbconvert_exporter": "python",
   "pygments_lexer": "ipython3",
   "version": "3.9.7"
  }
 },
 "nbformat": 4,
 "nbformat_minor": 5
}
