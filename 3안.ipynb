{
 "cells": [
  {
   "cell_type": "code",
   "execution_count": null,
   "id": "6bf548d0",
   "metadata": {},
   "outputs": [],
   "source": [
    "import pandas as pd\n",
    "import numpy as np\n",
    "import matplotlib.pyplot as plt\n",
    "import seaborn as sns"
   ]
  },
  {
   "cell_type": "code",
   "execution_count": null,
   "id": "5b8864bc",
   "metadata": {},
   "outputs": [],
   "source": [
    "import matplotlib\n",
    "import matplotlib.font_manager as fm\n",
    "fm.get_fontconfig_fonts()\n",
    "# font_location = '/usr/share/fonts/truetype/nanum/NanumGothicOTF.ttf'\n",
    "font_location = r'C:\\Users\\Jo\\PYDATAexam\\font\\malgun.ttf' # For Windows\n",
    "font_name = fm.FontProperties(fname=font_location).get_name()\n",
    "matplotlib.rc('font', family=font_name)"
   ]
  },
  {
   "cell_type": "code",
   "execution_count": null,
   "id": "07e53951",
   "metadata": {},
   "outputs": [],
   "source": [
    "ps_df = pd.read_excel(\"data/서울시 공무원 수.xls\")\n",
    "ps_df.columns = ['자치구','공무원수']\n",
    "ps_df.sort_values('자치구',inplace=True)\n",
    "ps_df.head()"
   ]
  },
  {
   "cell_type": "code",
   "execution_count": null,
   "id": "15e96847",
   "metadata": {},
   "outputs": [],
   "source": [
    "age_df = pd.read_csv(\"data/서울시 연령대 전처리 데이터.csv\")\n",
    "age_df.drop('Unnamed: 0',axis=1,inplace=True)\n",
    "age_df.head()"
   ]
  },
  {
   "cell_type": "code",
   "execution_count": null,
   "id": "153df5c1",
   "metadata": {},
   "outputs": [],
   "source": [
    "money_df = pd.read_excel(\"data/서울시 예산결산총괄 통계.xls\")\n",
    "money_df.sort_values('자치구',inplace=True)\n",
    "money_df.head()"
   ]
  },
  {
   "cell_type": "code",
   "execution_count": null,
   "id": "dcc292d3",
   "metadata": {},
   "outputs": [],
   "source": [
    "car_df = pd.read_excel(\"data/서울 열린데이터 광장/서울시 구별 자동차 등록통계.xls\")\n",
    "car_df.sort_values('자치구',inplace=True)\n",
    "car_df = car_df[['자치구','소계']]\n",
    "car_df.columns = ['자치구','자동차수']\n",
    "car_df.head()"
   ]
  },
  {
   "cell_type": "code",
   "execution_count": null,
   "id": "b215a7c2",
   "metadata": {},
   "outputs": [],
   "source": [
    "purpose_df = pd.read_excel(\"data/서울 열린데이터 광장/서울시 용도지역 현황 통계.xls\")\n",
    "purpose_df.sort_values('자치구',inplace=True)\n",
    "purpose_df.head()"
   ]
  },
  {
   "cell_type": "code",
   "execution_count": null,
   "id": "c39a41b8",
   "metadata": {},
   "outputs": [],
   "source": [
    "life_df = pd.read_csv(\"data/서울 열린데이터 광장/서울시 생활인구수.csv\")\n",
    "life_df.drop('Unnamed: 0',axis=1,inplace=True)\n",
    "life_df.head()"
   ]
  },
  {
   "cell_type": "code",
   "execution_count": null,
   "id": "bda7b556",
   "metadata": {},
   "outputs": [],
   "source": [
    "car_df = pd.read_excel(\"data/서울 열린데이터 광장/서울시 구별 자동차 등록통계.xls\")\n",
    "car_df.sort_values('자치구',inplace=True)\n",
    "car_df = car_df[['자치구','소계']]\n",
    "car_df.columns = ['자치구','자동차수']\n",
    "car_df.head()"
   ]
  },
  {
   "cell_type": "code",
   "execution_count": null,
   "id": "52db4041",
   "metadata": {},
   "outputs": [],
   "source": [
    "illegal_df = pd.read_excel(\"data/자치구별 적발건수.xlsx\")\n",
    "illegal_df.sort_values('자치구',inplace=True)\n",
    "illegal_df.head()"
   ]
  },
  {
   "cell_type": "code",
   "execution_count": null,
   "id": "8f2726d5",
   "metadata": {},
   "outputs": [],
   "source": [
    "ride_df = pd.read_csv(\"data/동별/자치구별/서울시 자치구별 대중교통 총 승차 승객수.csv\")\n",
    "ride_df = ride_df[['자치구','승객수']]\n",
    "ride_df.columns = ['자치구','대중교통승객수']\n",
    "ride_df.reset_index(inplace=True)\n",
    "ride_df.drop(['index'],axis=1,inplace=True)\n",
    "ride_df.sort_values(by='자치구',inplace=True)\n",
    "ride_df.head()"
   ]
  },
  {
   "cell_type": "code",
   "execution_count": null,
   "id": "b82308fc",
   "metadata": {},
   "outputs": [],
   "source": [
    "df_all = pd.concat([ps_df['공무원수'],age_df[['30대미만','50대미만','50대이상']],money_df['예산현액'],car_df['자동차수'],life_df['생활인구수'],illegal_df['적발 건수'],ride_df['대중교통승객수']],axis=1)\n",
    "df_all"
   ]
  },
  {
   "cell_type": "code",
   "execution_count": null,
   "id": "f476d023",
   "metadata": {},
   "outputs": [],
   "source": [
    "df_all.to_csv(\"all_variance(3안).csv\")"
   ]
  },
  {
   "cell_type": "code",
   "execution_count": null,
   "id": "356553d6",
   "metadata": {},
   "outputs": [],
   "source": [
    "#스케일링\n",
    "\n",
    "def standard_scaling(df,scale_columns):\n",
    "    for col in scale_columns:\n",
    "        series_mean = df[col].mean()\n",
    "        series_std = df[col].std()\n",
    "        df[col] = df[col].apply(lambda x: (x - series_mean)/series_std)\n",
    "    return df\n",
    "\n",
    "scale_columns = df_all.columns.tolist()\n",
    "ndf_all = standard_scaling(df_all,scale_columns)"
   ]
  },
  {
   "cell_type": "code",
   "execution_count": null,
   "id": "02860af5",
   "metadata": {},
   "outputs": [],
   "source": [
    "ndf_all.head()"
   ]
  },
  {
   "cell_type": "code",
   "execution_count": null,
   "id": "aa10f58a",
   "metadata": {},
   "outputs": [],
   "source": [
    "ndf_all.corr()"
   ]
  },
  {
   "cell_type": "code",
   "execution_count": null,
   "id": "9f046348",
   "metadata": {},
   "outputs": [],
   "source": [
    "ndf_all.to_csv(\"all_variance(3안).csv\")"
   ]
  },
  {
   "cell_type": "code",
   "execution_count": null,
   "id": "be3d8d58",
   "metadata": {},
   "outputs": [],
   "source": [
    "import seaborn as sns\n",
    "import matplotlib.pyplot as plt\n",
    "colormap = plt.cm.Reds\n",
    "mask=np.zeros_like(df_all.corr(),dtype=np.bool)\n",
    "mask[np.triu_indices_from(mask)]=True\n",
    "plt.figure(figsize=(20, 15))\n",
    "sns.heatmap(df_all.corr(), linewidths = 0.1, vmax = 1.0,\n",
    "           square = True,mask=mask, cmap = colormap, linecolor = \"white\", annot = True, annot_kws = {\"size\" : 16})"
   ]
  },
  {
   "cell_type": "code",
   "execution_count": null,
   "id": "69d36e08",
   "metadata": {},
   "outputs": [],
   "source": [
    "#다중공선성 확인\n",
    "from statsmodels.stats.outliers_influence import variance_inflation_factor\n",
    "\n",
    "vif_df = df_all.drop('적발 건수',axis=1)\n",
    "vif = pd.DataFrame()\n",
    "vif[\"VIF Factor\"] = [variance_inflation_factor(vif_df.values, i) for i in range(vif_df.shape[1])]"
   ]
  },
  {
   "cell_type": "code",
   "execution_count": null,
   "id": "7632a025",
   "metadata": {},
   "outputs": [],
   "source": [
    "vif.index = vif_df.columns\n",
    "vif"
   ]
  },
  {
   "cell_type": "code",
   "execution_count": null,
   "id": "a4487aaf",
   "metadata": {},
   "outputs": [],
   "source": [
    "res_df = ndf_all[['50대이상','주거지역','생활인구수']]\n",
    "res_df.columns = ['50대이상_점수','주거지역_점수','생활인구수_점수']"
   ]
  },
  {
   "cell_type": "code",
   "execution_count": null,
   "id": "c5ba4984",
   "metadata": {},
   "outputs": [],
   "source": [
    "res_df['자치구'] = ride_df['자치구']\n",
    "res_df.set_index('자치구',inplace=True)"
   ]
  },
  {
   "cell_type": "code",
   "execution_count": null,
   "id": "67273f30",
   "metadata": {},
   "outputs": [],
   "source": [
    "res_df"
   ]
  },
  {
   "cell_type": "code",
   "execution_count": null,
   "id": "efb4562c",
   "metadata": {},
   "outputs": [],
   "source": [
    "res_df['최종점수'] = -1 * 3.507 * 0.00000000000000016 - 8.719 * 0.1 * res_df['50대이상_점수'] - 3.499 * 0.1 * res_df['주거지역_점수'] + 8.447 * 0.1 * res_df['생활인구수_점수']\n",
    "res_df.sort_values('최종점수',ascending=False)"
   ]
  }
 ],
 "metadata": {
  "kernelspec": {
   "display_name": "Python 3 (ipykernel)",
   "language": "python",
   "name": "python3"
  },
  "language_info": {
   "codemirror_mode": {
    "name": "ipython",
    "version": 3
   },
   "file_extension": ".py",
   "mimetype": "text/x-python",
   "name": "python",
   "nbconvert_exporter": "python",
   "pygments_lexer": "ipython3",
   "version": "3.9.7"
  }
 },
 "nbformat": 4,
 "nbformat_minor": 5
}
