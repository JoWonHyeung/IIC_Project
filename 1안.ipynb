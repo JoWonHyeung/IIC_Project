{
 "cells": [
  {
   "cell_type": "code",
   "execution_count": null,
   "id": "2edadae6-7c13-4806-b100-368eee3160ba",
   "metadata": {},
   "outputs": [],
   "source": [
    "import pandas as pd\n",
    "import numpy as np\n",
    "import seaborn as sns\n",
    "\n",
    "df_6 = pd.read_csv(\"data/주민등록인구및세대현황(구별).csv\")\n",
    "df_6.columns = ['자치구','거주인구']\n",
    "df_6.sort_values(by='자치구',inplace=True)\n",
    "df_6.reset_index(inplace=True)\n",
    "df_6"
   ]
  },
  {
   "cell_type": "code",
   "execution_count": null,
   "id": "428a9d6c-731d-4ddf-9a88-2c8710954cbb",
   "metadata": {},
   "outputs": [],
   "source": [
    "df_2 = pd.read_excel(\"data/서울 열린데이터 광장/서울시 사업체 및 종사자 밀도 (구별)통계.xls\")\n",
    "df_2 = df_2[['자치구','종사자밀도(A)']]\n",
    "df_2.sort_values(by='자치구',inplace=True)\n",
    "df_2.columns = ['자치구','종사자밀도']\n",
    "df_2.head()"
   ]
  },
  {
   "cell_type": "code",
   "execution_count": null,
   "id": "4cd389c5-c144-4218-9f14-3b854b847c52",
   "metadata": {},
   "outputs": [],
   "source": [
    "pd.options.display.float_format = '{:.3f}'.format\n",
    "\n",
    "df_4 = pd.read_csv(\"data/자치구단위 서울생활인구 일별 집계.csv\")\n",
    "df_4 = df_4[['시군구명','총생활인구수']]\n",
    "df_4.columns = ['자치구','생활인구수']\n",
    "df_4.drop(0,inplace=True)"
   ]
  },
  {
   "cell_type": "code",
   "execution_count": null,
   "id": "5b2fbcd7-5516-44fa-bcde-bbf51ec9e72c",
   "metadata": {},
   "outputs": [],
   "source": [
    "ndf_4 = df_4.groupby('자치구').mean()\n",
    "ndf_4.sort_values(by='자치구',inplace=True)\n",
    "ndf_4.drop('서울시',inplace=True)"
   ]
  },
  {
   "cell_type": "code",
   "execution_count": null,
   "id": "a23495a6-b636-4dac-b584-1147fb207b15",
   "metadata": {},
   "outputs": [],
   "source": [
    "ndf_4.reset_index(inplace=True)"
   ]
  },
  {
   "cell_type": "code",
   "execution_count": null,
   "id": "a1af32f1-f9e6-46f7-9f73-9758fcce13e7",
   "metadata": {},
   "outputs": [],
   "source": [
    "df_5 = pd.read_excel(\"data/서울 열린데이터 광장/서울시 용도지역 현황 통계.xls\")\n",
    "df_5.sort_values(by='자치구',inplace=True)\n",
    "df_5.reset_index(inplace=True)\n",
    "df_5.head()"
   ]
  },
  {
   "cell_type": "code",
   "execution_count": null,
   "id": "5c98e7dd-ca6d-4d20-bd08-1371828b0ed0",
   "metadata": {},
   "outputs": [],
   "source": [
    "df_1 = pd.read_excel(\"data/서울 열린데이터 광장/서울시 구별 자동차 등록통계.xls\")\n",
    "df_1 = df_1[['자치구','소계']]\n",
    "df_1.columns = ['자치구','자동차 등록수']\n",
    "df_1.sort_values(by='자치구',inplace=True)\n",
    "df_1.reset_index(inplace=True)"
   ]
  },
  {
   "cell_type": "code",
   "execution_count": null,
   "id": "cf51e081-3970-47e8-b209-bea20a1414f0",
   "metadata": {},
   "outputs": [],
   "source": [
    "df_7 = pd.read_excel(\"data/서울 열린데이터 광장/서울시 주차장 현황.xls\")\n",
    "df_7 = df_7[['자치구','공영']]\n",
    "df_7.columns = ['자치구','공영 주차장']\n",
    "\n",
    "df_7.sort_values(by='자치구',inplace=True)\n",
    "df_7.reset_index(inplace=True)"
   ]
  },
  {
   "cell_type": "code",
   "execution_count": null,
   "id": "ade4672b",
   "metadata": {},
   "outputs": [],
   "source": [
    "df_8 = pd.read_excel(\"data/서울 열린데이터 광장/서울시 주택가 주차장 현황.xls\")\n",
    "df_8 = df_8[['자치구','합계']]\n",
    "df_8.columns = ['자치구','주택가 주차장']\n",
    "df_8.sort_values(by='자치구',inplace=True)\n",
    "df_8.reset_index(inplace=True)"
   ]
  },
  {
   "cell_type": "code",
   "execution_count": null,
   "id": "7038f045",
   "metadata": {},
   "outputs": [],
   "source": [
    "df_9 = pd.read_excel(\"data/서울 열린데이터 광장/서울시 주차장 현황.xls\")\n",
    "df_9\n",
    "df_9 = df_9[['자치구','민영']]\n",
    "df_9.columns = ['자치구','민영 주차장']\n",
    "df_9.sort_values(by='자치구',inplace=True)\n",
    "df_9.reset_index(inplace=True)"
   ]
  },
  {
   "cell_type": "code",
   "execution_count": null,
   "id": "765b4ca0-8b26-4bea-ab2c-4f5b5e607b14",
   "metadata": {},
   "outputs": [],
   "source": [
    "df_10 = pd.read_excel(\"data/서울 열린데이터 광장/서울시교통안전지수.xls\")\n",
    "df_10.sort_values(by='자치구',inplace=True)\n",
    "df_10.reset_index(inplace=True)\n",
    "df_10.shape"
   ]
  },
  {
   "cell_type": "code",
   "execution_count": null,
   "id": "509f3767-4de4-496e-a043-2cd7f3566c6b",
   "metadata": {},
   "outputs": [],
   "source": [
    "df_11 = pd.read_excel(\"data/서울 열린데이터 광장/서울시 지역사회 건강통계.xls\")\n",
    "df_11.sort_values(by='자치구',inplace=True)\n",
    "df_11.reset_index(inplace=True)"
   ]
  },
  {
   "cell_type": "code",
   "execution_count": null,
   "id": "1f85e877",
   "metadata": {},
   "outputs": [],
   "source": [
    "df_12 = pd.read_excel(\"data/서울 열린데이터 광장/서울시장애인통계(수정).xlsx\")\n",
    "df_12.columns = ['자치구','장애인수']\n",
    "df_12.sort_values(by='자치구',inplace=True)\n",
    "df_12.reset_index(inplace=True)"
   ]
  },
  {
   "cell_type": "code",
   "execution_count": null,
   "id": "f89cd173",
   "metadata": {},
   "outputs": [],
   "source": [
    "df_13 = pd.read_excel(\"data/자치구별 적발건수.xlsx\")\n",
    "df_13.columns = ['자치구','적발 건수']\n",
    "df_13.sort_values(by='자치구',inplace=True)\n",
    "df_13.head()"
   ]
  },
  {
   "cell_type": "code",
   "execution_count": null,
   "id": "c839fb06",
   "metadata": {},
   "outputs": [],
   "source": [
    "df_14 = pd.read_excel(\"data/서울 열린데이터 광장/서울시 사업체 및 종사자 밀도 (구별)통계.xls\")\n",
    "df_14 = df_14[['자치구','사업체밀도']]\n",
    "df_14.sort_values(by='자치구',inplace=True)\n",
    "df_14.head()"
   ]
  },
  {
   "cell_type": "code",
   "execution_count": null,
   "id": "6b68051f",
   "metadata": {},
   "outputs": [],
   "source": [
    "df_15 = pd.read_csv(\"data/동별/자치구별/서울시 자치구별 대중교통 총 승차 승객수.csv\")\n",
    "df_15 = df_15[['자치구','승객수']]\n",
    "df_15.columns = ['자치구','대중교통승객수']\n",
    "df_15.reset_index(inplace=True)\n",
    "df_15.drop(['index'],axis=1,inplace=True)\n",
    "df_15.sort_values(by='자치구',inplace=True)\n",
    "df_15.head()"
   ]
  },
  {
   "cell_type": "code",
   "execution_count": null,
   "id": "ef4dcf2e",
   "metadata": {},
   "outputs": [],
   "source": [
    "df_16 = pd.read_excel(\"data/서울 열린데이터 광장/서울시 인구밀도 (구별) 통계.xls\")\n",
    "df_16 = df_16[['지역','인구밀도']]\n",
    "df_16.sort_values(by='지역',inplace=True)\n",
    "df_16_series = pd.Series(df_16['인구밀도'].tolist())\n",
    "df_16['인구밀도'] = df_16_series"
   ]
  },
  {
   "cell_type": "code",
   "execution_count": null,
   "id": "d426e347-887b-4c7b-a06c-10985792033e",
   "metadata": {},
   "outputs": [],
   "source": [
    "df_all = pd.concat([df_2['종사자밀도'],ndf_4['생활인구수'],df_5[['주거지역','상업지역']],df_1['자동차 등록수'],df_7['공영 주차장'],df_9['민영 주차장'],df_10['교통안전지수'],df_11[['스트레스 인지율','우울감 경험률']],df_12['장애인수'],df_13['적발 건수'],df_14['사업체밀도'],df_15['대중교통승객수'],df_16['인구밀도']],axis=1)\n",
    "df_all"
   ]
  },
  {
   "cell_type": "code",
   "execution_count": null,
   "id": "45d0aee0-95d8-4a44-a678-eefbce2c3342",
   "metadata": {},
   "outputs": [],
   "source": [
    "df_all.index = df_1['자치구'].tolist()"
   ]
  },
  {
   "cell_type": "code",
   "execution_count": null,
   "id": "756989e1-5587-4d23-8755-b8ef8ce60388",
   "metadata": {},
   "outputs": [],
   "source": [
    "df_all"
   ]
  },
  {
   "cell_type": "code",
   "execution_count": null,
   "id": "bbe2ff21-de58-4c4b-8a08-3e424567d1aa",
   "metadata": {
    "scrolled": true
   },
   "outputs": [],
   "source": [
    "import re\n",
    "df_all['거주인구'] = df_all['거주인구'].apply(lambda x: re.sub(',','',x))\n",
    "df_all['거주인구'] = df_all['거주인구'].astype(float)\n",
    "df_all.info()"
   ]
  },
  {
   "cell_type": "code",
   "execution_count": null,
   "id": "79e6fc50",
   "metadata": {},
   "outputs": [],
   "source": [
    "ndf_all.to_csv(\"all_variance.csv\")"
   ]
  },
  {
   "cell_type": "code",
   "execution_count": null,
   "id": "e12dfcd8-8e1b-4df0-a8cb-b3fb0af9f1aa",
   "metadata": {},
   "outputs": [],
   "source": [
    "import matplotlib\n",
    "import matplotlib.font_manager as fm\n",
    "fm.get_fontconfig_fonts()\n",
    "# font_location = '/usr/share/fonts/truetype/nanum/NanumGothicOTF.ttf'\n",
    "font_location = r'C:\\Users\\Jo\\PYDATAexam\\font\\malgun.ttf' # For Windows\n",
    "font_name = fm.FontProperties(fname=font_location).get_name()\n",
    "matplotlib.rc('font', family=font_name)"
   ]
  },
  {
   "cell_type": "code",
   "execution_count": null,
   "id": "b2d44159-5806-4e9e-b0ba-0f1fffa22b1a",
   "metadata": {},
   "outputs": [],
   "source": [
    "#pairplot 그리기\n",
    "import matplotlib.pyplot as plt\n",
    "\n",
    "grid_ndf = sns.pairplot(df_all)\n",
    "plt.show()\n",
    "plt.close()"
   ]
  },
  {
   "cell_type": "code",
   "execution_count": null,
   "id": "1ecb387d-066d-4979-aa32-42189f0827fa",
   "metadata": {},
   "outputs": [],
   "source": [
    "#상관계수 \n",
    "import seaborn as sns\n",
    "import matplotlib.pyplot as plt\n",
    "colormap = plt.cm.Reds\n",
    "mask=np.zeros_like(ndf_all.corr(),dtype=np.bool)\n",
    "mask[np.triu_indices_from(mask)]=True\n",
    "plt.figure(figsize=(20, 15))\n",
    "sns.heatmap(df_all.corr(), linewidths = 0.1, vmax = 1.0,\n",
    "           square = True,mask=mask, cmap = colormap, linecolor = \"white\", annot = True, annot_kws = {\"size\" : 16})"
   ]
  },
  {
   "cell_type": "code",
   "execution_count": null,
   "id": "87bc45b3-3413-4a23-a3c8-fd4be680b579",
   "metadata": {},
   "outputs": [],
   "source": [
    "#스케일링\n",
    "def standard_scaling(df,scale_columns):\n",
    "    for col in scale_columns:\n",
    "        series_mean = df[col].mean()\n",
    "        series_std = df[col].std()\n",
    "        df[col] = df[col].apply(lambda x: (x - series_mean)/series_std)\n",
    "    return df\n",
    "\n",
    "scale_columns = df_all.columns.tolist()\n",
    "ndf_all = standard_scaling(df_all,scale_columns)"
   ]
  },
  {
   "cell_type": "code",
   "execution_count": null,
   "id": "6a146c9f-4864-46ce-a206-cd9b4aad6081",
   "metadata": {},
   "outputs": [],
   "source": [
    "import pandas as pd\n",
    "from sklearn.model_selection import train_test_split\n",
    "\n",
    "# Feature, target 분리\n",
    "target = ndf_all['적발 건수']\n",
    "ndf_all.drop(['적발 건수'],axis=1,inplace=True)\n",
    "#df_all = df_all[['자동차 등록수','교통안전지수','장애인수']]\n",
    "\n",
    "# train, test 데이터 분리 (8 : 2)\n",
    "X_train, X_test, y_train, y_test = train_test_split(ndf_all, target, test_size=0.2, shuffle=True, random_state=34)\n",
    "\n",
    "import statsmodels.api as sm\n",
    "\n",
    "X_train = sm.add_constant(X_train)\n",
    "model = sm.OLS(y_train, X_train).fit()\n",
    "print(model.summary())"
   ]
  },
  {
   "cell_type": "code",
   "execution_count": null,
   "id": "bf94224e-79ca-454f-94c0-228dd28946d8",
   "metadata": {},
   "outputs": [],
   "source": [
    "#단계적 선택법\n",
    "import statsmodels.api as sm\n",
    "import matplotlib.pyplot as plt\n",
    "\n",
    "def stepwise_feature_selection(X_train, y_train, variables=X_train.columns.tolist()):\n",
    "    y = y_train ## 반응 변수\n",
    "\n",
    "    selected_variables = [] ## 선택된 변수들\n",
    "    sl_enter = 0.05\n",
    "    sl_remove = 0.05\n",
    "    \n",
    "    sv_per_step = [] ## 각 스텝별로 선택된 변수들\n",
    "    adjusted_r_squared = [] ## 각 스텝별 수정된 결정계수\n",
    "    steps = [] ## 스텝\n",
    "    step = 0\n",
    "    while len(variables) > 0:\n",
    "        remainder = list(set(variables) - set(selected_variables))\n",
    "        pval = pd.Series(index=remainder) ## 변수의 p-value\n",
    "        ## 기존에 포함된 변수와 새로운 변수 하나씩 돌아가면서 \n",
    "        ## 선형 모형을 적합한다.\n",
    "        for col in remainder: \n",
    "            X = X_train[selected_variables+[col]]\n",
    "            X = sm.add_constant(X)\n",
    "            model = sm.OLS(y,X).fit(disp=0)\n",
    "            pval[col] = model.pvalues[col]\n",
    "    \n",
    "        min_pval = pval.min()\n",
    "        if min_pval < sl_enter: ## 최소 p-value 값이 기준 값보다 작으면 포함\n",
    "            selected_variables.append(pval.idxmin())\n",
    "            ## 선택된 변수들에대해서\n",
    "            ## 어떤 변수를 제거할지 고른다.\n",
    "            while len(selected_variables) > 0:\n",
    "                selected_X = X_train[selected_variables]\n",
    "                selected_X = sm.add_constant(selected_X)\n",
    "                selected_pval = sm.OLS(y,selected_X).fit(disp=0).pvalues[1:] ## 절편항의 p-value는 뺀다\n",
    "                max_pval = selected_pval.max()\n",
    "                if max_pval >= sl_remove: ## 최대 p-value값이 기준값보다 크거나 같으면 제외\n",
    "                    remove_variable = selected_pval.idxmax()\n",
    "                    selected_variables.remove(remove_variable)\n",
    "                else:\n",
    "                    break\n",
    "            \n",
    "            step += 1\n",
    "            steps.append(step)\n",
    "            adj_r_squared = sm.OLS(y,sm.add_constant(X_train[selected_variables])).fit(disp=0).rsquared_adj\n",
    "            adjusted_r_squared.append(adj_r_squared)\n",
    "            sv_per_step.append(selected_variables.copy())\n",
    "        else:\n",
    "            break\n",
    "\n",
    "    fig = plt.figure(figsize=(100,50))\n",
    "    fig.set_facecolor('white')\n",
    "    \n",
    "    font_size = 80\n",
    "    plt.yticks(fontsize=100)\n",
    "    plt.xticks(steps,[f'step {s}\\n'+'\\n'.join(sv_per_step[i]) for i,s in enumerate(steps)], fontsize=100)\n",
    "    plt.plot(steps,adjusted_r_squared, color='blue',marker='o',linewidth=15,markersize=12)\n",
    "    \n",
    "    plt.ylabel('Adjusted R Squared',fontsize=font_size)\n",
    "    plt.grid(True)\n",
    "    plt.show()\n",
    "\n",
    "    return selected_variables\n",
    "    \n",
    "\n",
    "selected_variables = stepwise_feature_selection(X_train, y_train)"
   ]
  },
  {
   "cell_type": "code",
   "execution_count": null,
   "id": "005d98c3",
   "metadata": {},
   "outputs": [],
   "source": [
    "import pandas as pd\n",
    "from sklearn.model_selection import train_test_split\n",
    "\n",
    "# Feature, target 분리\n",
    "#target = ndf_all['적발 건수']\n",
    "ndf_all = df_all[['상업지역','자동차 등록수']]\n",
    "#df_all = df_all[['자동차 등록수','교통안전지수','장애인수']]\n",
    "\n",
    "# train, test 데이터 분리 (8 : 2)\n",
    "X_train, X_test, y_train, y_test = train_test_split(ndf_all, target, test_size=0.2, shuffle=True, random_state=34)\n",
    "\n",
    "import statsmodels.api as sm\n",
    "\n",
    "X_train = sm.add_constant(X_train)\n",
    "model = sm.OLS(y_train, X_train).fit()\n",
    "print(model.summary())"
   ]
  },
  {
   "cell_type": "code",
   "execution_count": null,
   "id": "5ddc5fc8-dfa8-4faa-b07c-1df2ab2c60e3",
   "metadata": {},
   "outputs": [],
   "source": [
    "#다중공선성 확인\n",
    "\n",
    "from statsmodels.stats.outliers_influence import variance_inflation_factor\n",
    "\n",
    "vif_df = ndf_all.drop('적발 건수',axis=1)\n",
    "vif = pd.DataFrame()\n",
    "vif[\"VIF Factor\"] = [variance_inflation_factor(vif_df.values, i) for i in range(vif_df.shape[1])]\n",
    "vif.index = vif_df.columns"
   ]
  },
  {
   "cell_type": "code",
   "execution_count": null,
   "id": "b77aab1f",
   "metadata": {},
   "outputs": [],
   "source": [
    "res_df = ndf_all[['종사자밀도','생활인구수','주거지역','상업지역','자동차 등록수','공영 주차장','민영 주차장','교통안전지수','스트레스 인지율','우울감 경험률','장애인수','사업체밀도','대중교통승객수','인구밀도']]\n",
    "res_df\n",
    "res_df.head()\n",
    "\n",
    "res_df['최종점수'] = (2243.5 - res_df['종사자밀도'] * 4672.5 - res_df['생활인구수'] * 4070 + res_df['주거지역'] * 1546.1 + res_df['상업지역'] * 930.2 + 4859.3 * res_df['자동차 등록수'] + res_df['공영 주차장'] * 367.9 + res_df['민영 주차장'] * 400.6 + res_df['교통안전지수'] * 1630.2 + res_df['스트레스 인지율'] * 985.5 - res_df['우울감 경험률'] * 1210.1 - res_df['장애인수'] * 1630.6 + res_df['사업체밀도'] * 3936.9 + res_df['대중교통승객수'] * 1025.3 - res_df['인구밀도'] * 1592.7) * 0.01  \n",
    "#res_df['최종점수'] = 2243.5 +  res_df['생활인구수'] * 3.609 * 0.1 - res_df['상업지역'] * 4.095 * 0.1 + res_df['민영 주차장'] * 4.725 * 0.1 + res_df['교통안전지수'] * 3.154 * 0.1 - 4.630 * 0.00000000000000001\n",
    "res_df.drop('성북구',inplace=True)\n",
    "res_df.sort_values(by='최종점수',ascending=False)\n",
    "res_df.reset_index(inplace=True)\n",
    "res_df['인구밀도'] = df['인구밀도']\n",
    "res_df"
   ]
  }
 ],
 "metadata": {
  "kernelspec": {
   "display_name": "pydatavenv",
   "language": "python",
   "name": "pydatavenv"
  },
  "language_info": {
   "codemirror_mode": {
    "name": "ipython",
    "version": 3
   },
   "file_extension": ".py",
   "mimetype": "text/x-python",
   "name": "python",
   "nbconvert_exporter": "python",
   "pygments_lexer": "ipython3",
   "version": "3.9.12"
  }
 },
 "nbformat": 4,
 "nbformat_minor": 5
}
